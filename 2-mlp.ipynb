{
  "cells": [
    {
      "cell_type": "markdown",
      "metadata": {},
      "source": [
        "# Introduction\n",
        "\n",
        "The objective of this lab is to dive into particular kind of neural network: the *Multi-Layer Perceptron* (MLP).\n",
        "\n",
        "To start, let us take the dataset from the previous lab (hydrodynamics of sailing boats) and use scikit-learn to train a MLP instead of our hand-made single perceptron.\n",
        "The code below is already complete and is meant to give you an idea of how to construct an MLP with scikit-learn. You can execute it, taking the time to understand the idea behind each cell."
      ]
    },
    {
      "cell_type": "code",
      "execution_count": 1,
      "metadata": {},
      "outputs": [],
      "source": [
        "# Importing the dataset\n",
        "import numpy as np\n",
        "dataset = np.genfromtxt(\"yacht_hydrodynamics.data\", delimiter='')\n",
        "X = dataset[:, :-1]\n",
        "Y = dataset[:, -1]"
      ]
    },
    {
      "cell_type": "code",
      "execution_count": 2,
      "metadata": {},
      "outputs": [],
      "source": [
        "# Preprocessing: scale input data \n",
        "from sklearn.preprocessing import StandardScaler\n",
        "sc = StandardScaler()\n",
        "X = sc.fit_transform(X)"
      ]
    },
    {
      "cell_type": "code",
      "execution_count": 3,
      "metadata": {},
      "outputs": [],
      "source": [
        "# Split dataset into training and test set\n",
        "from sklearn.model_selection import train_test_split\n",
        "x_train, x_test, y_train, y_test = train_test_split(X, Y,random_state=1, test_size = 0.20)"
      ]
    },
    {
      "cell_type": "code",
      "execution_count": 4,
      "metadata": {},
      "outputs": [],
      "source": [
        "# Define a multi-layer perceptron (MLP) network for regression\n",
        "from sklearn.neural_network import MLPRegressor\n",
        "mlp = MLPRegressor(max_iter=3000, random_state=1) # define the model, with default params\n",
        "mlp.fit(x_train, y_train) # train the MLP"
      ]
    },
    {
      "cell_type": "code",
      "execution_count": 5,
      "metadata": {},
      "outputs": [],
      "source": [
        "# Evaluate the model\n",
        "from matplotlib import pyplot as plt\n",
        "\n",
        "print('Train score: ', mlp.score(x_train, y_train))\n",
        "print('Test score:  ', mlp.score(x_test, y_test))\n",
        "plt.plot(mlp.loss_curve_)\n",
        "plt.xlabel(\"Iterations\")\n",
        "plt.ylabel(\"Loss\")\n"
      ]
    },
    {
      "cell_type": "code",
      "execution_count": 6,
      "metadata": {},
      "outputs": [],
      "source": [
        "# Plot the results\n",
        "num_samples_to_plot = 20\n",
        "plt.plot(y_test[0:num_samples_to_plot], 'ro', label='y')\n",
        "yw = mlp.predict(x_test)\n",
        "plt.plot(yw[0:num_samples_to_plot], 'bx', label='$\\hat{y}$')\n",
        "plt.legend()\n",
        "plt.xlabel(\"Examples\")\n",
        "plt.ylabel(\"f(examples)\")"
      ]
    },
    {
      "cell_type": "markdown",
      "metadata": {},
      "source": [
        "### Analyzing the network\n",
        "\n",
        "Many details of the network are currently hidden as default parameters.\n",
        "\n",
        "Using the [documentation of the MLPRegressor](https://scikit-learn.org/stable/modules/generated/sklearn.neural_network.MLPRegressor.html), answer the following questions.\n",
        "\n",
        "- What is the structure of the network?\n",
        "- What it is the algorithm used for training? Is there algorithm available that we mentioned during the courses?\n",
        "- How does the training algorithm decides to stop the training?"
      ]
    },
    {
      "cell_type": "markdown",
      "metadata": {},
      "source": [
        "# Onto a more challenging dataset: house prices\n",
        "\n",
        "For the rest of this lab, we will use the (more challenging) [California Housing Prices dataset](https://www.kaggle.com/datasets/camnugent/california-housing-prices)."
      ]
    },
    {
      "cell_type": "code",
      "execution_count": 7,
      "metadata": {},
      "outputs": [],
      "source": [
        "# clean all previously defined variables for the sailing boats\n",
        "%reset -f"
      ]
    },
    {
      "cell_type": "code",
      "execution_count": 10,
      "metadata": {},
      "outputs": [],
      "source": [
        "\"\"\"Import the required modules\"\"\"\n",
        "from sklearn.datasets import fetch_california_housing\n",
        "from sklearn.utils import shuffle\n",
        "import pandas as pd\n",
        "\n",
        "cal_housing = fetch_california_housing()\n",
        "print(type(cal_housing))\n",
        "X_all = pd.DataFrame(cal_housing.data,columns=cal_housing.feature_names)\n",
        "y_all = cal_housing.target\n",
        "\n",
        "X_all, y_all = shuffle(X_all, y_all, random_state=1)\n",
        "\n",
        "# only use the first N samples to limit training time\n",
        "num_samples = 2000 \n",
        "X, y = X_all[:num_samples], y_all[:num_samples]\n",
        "\n",
        "X.head(10) # print the first 10 values"
      ]
    },
    {
      "cell_type": "markdown",
      "metadata": {},
      "source": [
        "Note that each row of the dataset represents a **group of houses** (one district). The `target` variable denotes the average house value in units of 100.000 USD. Median Income is per 10.000 USD."
      ]
    },
    {
      "cell_type": "markdown",
      "metadata": {},
      "source": [
        "### Extracting a subpart of the dataset for testing\n",
        "\n",
        "- Split the dataset between a training set (75%) and a test set (25%)\n",
        "\n",
        "Please use the conventional names `X_train`, `X_test`, `y_train` and `y_test`."
      ]
    },
    {
      "cell_type": "code",
      "execution_count": 11,
      "metadata": {},
      "outputs": [],
      "source": [
        "# TODO"
      ]
    },
    {
      "cell_type": "markdown",
      "metadata": {},
      "source": [
        "### Scaling the input data\n",
        "\n",
        "\n",
        "A step of **scaling** of the data is often useful to ensure that all input data centered on 0 and with a fixed variance.\n",
        "\n",
        "Standardization of a dataset is a common requirement for many machine learning estimators: they might behave badly if the individual features do not more or less look like standard normally distributed data (e.g. Gaussian with 0 mean and unit variance). The function `StandardScaler` from `sklearn.preprocessing` computes the standard score of a sample as:\n",
        "\n",
        "```\n",
        "z = (x - u) / s\n",
        "```\n",
        "\n",
        "where `u` is the mean of the training samples, and `s` is the standard deviation of the training samples.\n",
        "\n",
        "Centering and scaling happen independently on each feature by computing the relevant statistics on the samples in the training set. Mean and standard deviation are then stored to be used on later data using transform.\n",
        "\n",
        " - Apply the standard scaler to both the training dataset (`X_train`) and the test dataset (`X_test`).\n",
        " - Make sure that **exactly the same transformation** is applied to both datasets.\n",
        "\n",
        "[Documentation of standard scaler in scikit learn](https://scikit-learn.org/stable/modules/generated/sklearn.preprocessing.StandardScaler.html)\n",
        "\n"
      ]
    },
    {
      "cell_type": "code",
      "execution_count": 13,
      "metadata": {},
      "outputs": [],
      "source": [
        "# TODO"
      ]
    },
    {
      "cell_type": "markdown",
      "metadata": {},
      "source": [
        "## Overfitting\n",
        "\n",
        "In this part, we are only interested in maximizing the **train score**, i.e., having the network memorize the training examples as well as possible.\n",
        "\n",
        "- Propose a parameterization of the network (shape and learning parameters) that will maximize the train score (without considering the test score).\n",
        "\n",
        "While doing this, you should (1) remain within two minutes of training time, and (2) obtain a score that is greater than 0.90.\n",
        "\n",
        "- Is the **test** score substantially smaller than the **train** score (indicator of overfitting) ?\n",
        "- Explain how the parameters you chose allow the learned model to overfit."
      ]
    },
    {
      "cell_type": "code",
      "execution_count": 15,
      "metadata": {},
      "outputs": [],
      "source": [
        "# TODO"
      ]
    },
    {
      "cell_type": "markdown",
      "metadata": {},
      "source": [
        "## Hyperparameter tuning\n",
        "\n",
        "In this section, we are now interested in maximizing the ability of the network to predict the value of unseen examples, i.e., maximizing the **test** score.\n",
        "You should experiment with the possible parameters of the network in order to obtain a good test score, ideally with a small learning time.\n",
        "\n",
        "Parameters to vary:\n",
        "\n",
        "- number and size of the hidden layers\n",
        "- activation function\n",
        "- stopping conditions\n",
        "- maximum number of iterations\n",
        "- initial learning rate value\n",
        "\n",
        "Results to present for the tested configurations:\n",
        "\n",
        "- Train/test score\n",
        "- training time\n",
        "\n",
        "\n",
        "Present in a table the various parameters tested and the associated results. You can find in the last cell of the notebook a code snippet that will allow you to plot tables from python structure.\n",
        "Be methodical in the way your run your experiments and collect data. For each run, you should record the parameters and results into an external data structure.\n",
        "\n",
        "(Note that, while we encourage you to explore the solution space manually, there are existing methods in scikit-learn and other learning framework to automate this step as well, e.g., [GridSearchCV](https://scikit-learn.org/stable/modules/generated/sklearn.model_selection.GridSearchCV.html))"
      ]
    },
    {
      "cell_type": "code",
      "execution_count": 18,
      "metadata": {},
      "outputs": [],
      "source": [
        "# TODO\n",
        "  "
      ]
    },
    {
      "cell_type": "code",
      "execution_count": 20,
      "metadata": {},
      "outputs": [],
      "source": [
        "# Code snippet to display a nice table in jupyter notebooks  (remove from report)\n",
        "import pandas as pd\n",
        "data = []\n",
        "data.append({'activation': 'relu', 'max_iter': '500', 'test_score': 0.87})\n",
        "data.append({'activation': 'tanh', 'max_iter': '200', 'early_stopping': False, 'test_score': 0.91})\n",
        "\n",
        "table = pd.DataFrame.from_dict(data)\n",
        "table = table.replace(np.nan, '-')\n",
        "table = table.sort_values(by='test_score', ascending=False)\n",
        "table"
      ]
    },
    {
      "cell_type": "markdown",
      "metadata": {},
      "source": [
        "## Evaluation\n",
        "\n",
        "- From your experiments, what seems to be the best model (i.e. set of parameters) for predicting the value of a house?\n",
        "\n",
        "Unless you used cross-validation, you have probably used the \"test\" set to select the best model among the ones you experimented with.\n",
        "Since your model is the one that worked best on the \"test\" set, your selection is *biased*.\n",
        "\n",
        "In all rigor the original dataset should be split in three:\n",
        "\n",
        "- the **training set**, on which each model is trained\n",
        "- the **validation set**, that is used to pick the best parameters of the model \n",
        "- the **test set**, on which we evaluate the final model\n",
        "\n",
        "\n",
        "Evaluate the score of your algorithm on a test set that was not used for training nor for model selection.\n",
        "\n"
      ]
    },
    {
      "cell_type": "code",
      "execution_count": 21,
      "metadata": {},
      "outputs": [],
      "source": [
        "# TODO"
      ]
    },
    {
      "cell_type": "code",
      "execution_count": null,
      "metadata": {},
      "outputs": [],
      "source": []
    },
    {
      "cell_type": "code",
      "execution_count": null,
      "metadata": {},
      "outputs": [],
      "source": []
    }
  ],
  "metadata": {
    "kernelspec": {
      "display_name": "Python 3 (ipykernel)",
      "language": "python",
      "name": "python3"
    },
    "language_info": {
      "codemirror_mode": {
        "name": "ipython",
        "version": 3
      },
      "file_extension": ".py",
      "mimetype": "text/x-python",
      "name": "python",
      "nbconvert_exporter": "python",
      "pygments_lexer": "ipython3",
      "version": "3.10.6"
    },
    "vscode": {
      "interpreter": {
        "hash": "916dbcbb3f70747c44a77c7bcd40155683ae19c65e1c03b4aa3499c5328201f1"
      }
    }
  },
  "nbformat": 4,
  "nbformat_minor": 4
}
